{
 "cells": [
  {
   "cell_type": "code",
   "execution_count": 1,
   "id": "41f540b4-e250-407f-962b-585adfbb9b38",
   "metadata": {},
   "outputs": [],
   "source": [
    "import pandas as pd\n",
    "from matplotlib import pyplot as plt"
   ]
  },
  {
   "cell_type": "code",
   "execution_count": 2,
   "id": "073e4213-0867-4d49-baf5-6aba1d8753f0",
   "metadata": {},
   "outputs": [],
   "source": [
    "df = pd.read_csv('../xxx.csv', sep=' ')"
   ]
  },
  {
   "cell_type": "code",
   "execution_count": 3,
   "id": "702b23df-0463-4840-a2c9-3dcf93a2f12f",
   "metadata": {},
   "outputs": [
    {
     "data": {
      "text/html": [
       "<div>\n",
       "<style scoped>\n",
       "    .dataframe tbody tr th:only-of-type {\n",
       "        vertical-align: middle;\n",
       "    }\n",
       "\n",
       "    .dataframe tbody tr th {\n",
       "        vertical-align: top;\n",
       "    }\n",
       "\n",
       "    .dataframe thead th {\n",
       "        text-align: right;\n",
       "    }\n",
       "</style>\n",
       "<table border=\"1\" class=\"dataframe\">\n",
       "  <thead>\n",
       "    <tr style=\"text-align: right;\">\n",
       "      <th></th>\n",
       "      <th>diff</th>\n",
       "      <th>mmin</th>\n",
       "      <th>filename</th>\n",
       "    </tr>\n",
       "  </thead>\n",
       "  <tbody>\n",
       "    <tr>\n",
       "      <th>0</th>\n",
       "      <td>0.00001</td>\n",
       "      <td>0.91728</td>\n",
       "      <td>outputs.ath/rarefy/explain.ERR3212024.k31.csv</td>\n",
       "    </tr>\n",
       "    <tr>\n",
       "      <th>1</th>\n",
       "      <td>0.00021</td>\n",
       "      <td>0.94577</td>\n",
       "      <td>outputs.ath/rarefy/explain.SRR12795785.k31.csv</td>\n",
       "    </tr>\n",
       "    <tr>\n",
       "      <th>2</th>\n",
       "      <td>0.00412</td>\n",
       "      <td>0.85771</td>\n",
       "      <td>outputs.ath/rarefy/explain.SRR12795789.k31.csv</td>\n",
       "    </tr>\n",
       "    <tr>\n",
       "      <th>3</th>\n",
       "      <td>0.00510</td>\n",
       "      <td>0.88416</td>\n",
       "      <td>outputs.ath/rarefy/explain.SRR5240729.k31.csv</td>\n",
       "    </tr>\n",
       "    <tr>\n",
       "      <th>4</th>\n",
       "      <td>0.01255</td>\n",
       "      <td>0.88094</td>\n",
       "      <td>outputs.ath/rarefy/explain.ERR1135272.k31.csv</td>\n",
       "    </tr>\n",
       "    <tr>\n",
       "      <th>...</th>\n",
       "      <td>...</td>\n",
       "      <td>...</td>\n",
       "      <td>...</td>\n",
       "    </tr>\n",
       "    <tr>\n",
       "      <th>90</th>\n",
       "      <td>0.09759</td>\n",
       "      <td>0.59413</td>\n",
       "      <td>outputs.ath/rarefy/explain.SRR8960830.k31.csv</td>\n",
       "    </tr>\n",
       "    <tr>\n",
       "      <th>91</th>\n",
       "      <td>0.09983</td>\n",
       "      <td>0.65324</td>\n",
       "      <td>outputs.ath/rarefy/explain.SRR11183831.k31.csv</td>\n",
       "    </tr>\n",
       "    <tr>\n",
       "      <th>92</th>\n",
       "      <td>0.10047</td>\n",
       "      <td>0.64807</td>\n",
       "      <td>outputs.ath/rarefy/explain.SRR8960480.k31.csv</td>\n",
       "    </tr>\n",
       "    <tr>\n",
       "      <th>93</th>\n",
       "      <td>0.11165</td>\n",
       "      <td>0.65423</td>\n",
       "      <td>outputs.ath/rarefy/explain.SRR11124912.k31.csv</td>\n",
       "    </tr>\n",
       "    <tr>\n",
       "      <th>94</th>\n",
       "      <td>0.13448</td>\n",
       "      <td>0.66932</td>\n",
       "      <td>outputs.ath/rarefy/explain.SRR11183877.k31.csv</td>\n",
       "    </tr>\n",
       "  </tbody>\n",
       "</table>\n",
       "<p>95 rows × 3 columns</p>\n",
       "</div>"
      ],
      "text/plain": [
       "       diff     mmin                                        filename\n",
       "0   0.00001  0.91728   outputs.ath/rarefy/explain.ERR3212024.k31.csv\n",
       "1   0.00021  0.94577  outputs.ath/rarefy/explain.SRR12795785.k31.csv\n",
       "2   0.00412  0.85771  outputs.ath/rarefy/explain.SRR12795789.k31.csv\n",
       "3   0.00510  0.88416   outputs.ath/rarefy/explain.SRR5240729.k31.csv\n",
       "4   0.01255  0.88094   outputs.ath/rarefy/explain.ERR1135272.k31.csv\n",
       "..      ...      ...                                             ...\n",
       "90  0.09759  0.59413   outputs.ath/rarefy/explain.SRR8960830.k31.csv\n",
       "91  0.09983  0.65324  outputs.ath/rarefy/explain.SRR11183831.k31.csv\n",
       "92  0.10047  0.64807   outputs.ath/rarefy/explain.SRR8960480.k31.csv\n",
       "93  0.11165  0.65423  outputs.ath/rarefy/explain.SRR11124912.k31.csv\n",
       "94  0.13448  0.66932  outputs.ath/rarefy/explain.SRR11183877.k31.csv\n",
       "\n",
       "[95 rows x 3 columns]"
      ]
     },
     "execution_count": 3,
     "metadata": {},
     "output_type": "execute_result"
    }
   ],
   "source": [
    "df"
   ]
  },
  {
   "cell_type": "code",
   "execution_count": 4,
   "id": "7a28d3dd-9cad-4aea-a6af-51bbd45d88ea",
   "metadata": {},
   "outputs": [
    {
     "data": {
      "text/plain": [
       "[<matplotlib.lines.Line2D at 0x7cca0f766fc0>]"
      ]
     },
     "execution_count": 4,
     "metadata": {},
     "output_type": "execute_result"
    },
    {
     "data": {
      "image/png": "[encoded data removed]",
      "text/plain": [
       "<Figure size 640x480 with 1 Axes>"
      ]
     },
     "metadata": {},
     "output_type": "display_data"
    }
   ],
   "source": [
    "plt.plot(df[\"mmin\"], df[\"diff\"], '*')"
   ]
  },
  {
   "cell_type": "code",
   "execution_count": null,
   "id": "5c11e892-02dc-4a3a-b51a-8fd380414346",
   "metadata": {},
   "outputs": [],
   "source": []
  }
 ],
 "metadata": {
  "kernelspec": {
   "display_name": "genome_grist",
   "language": "python",
   "name": "genome_grist"
  },
  "language_info": {
   "codemirror_mode": {
    "name": "ipython",
    "version": 3
   },
   "file_extension": ".py",
   "mimetype": "text/x-python",
   "name": "python",
   "nbconvert_exporter": "python",
   "pygments_lexer": "ipython3",
   "version": "3.12.11"
  }
 },
 "nbformat": 4,
 "nbformat_minor": 5
}
