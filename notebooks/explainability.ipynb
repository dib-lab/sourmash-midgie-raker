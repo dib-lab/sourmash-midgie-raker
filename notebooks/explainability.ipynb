{
 "cells": [
  {
   "cell_type": "code",
   "execution_count": 1,
   "id": "db65df71-83e8-47ed-9910-2bbad250a486",
   "metadata": {},
   "outputs": [
    {
     "name": "stdout",
     "output_type": "stream",
     "text": [
      "advantage.png         sketches.f_known.png      summarize-contain.ipynb\n",
      "explainability.ipynb  sketches.f_unknown.png\n",
      "min-set-cov.ipynb     sketches.min-set-cov.png\n"
     ]
    }
   ],
   "source": [
    "ls"
   ]
  },
  {
   "cell_type": "code",
   "execution_count": 4,
   "id": "5176e0a8-d7e3-4083-9235-ca90adc73741",
   "metadata": {},
   "outputs": [
    {
     "name": "stdout",
     "output_type": "stream",
     "text": [
      "ERR3211879.bins-only.gather.csv   SRR11126399.bins-only.gather.csv\n",
      "ERR3211879.gtdb+bins.gather.csv   SRR11126399.gtdb+bins.gather.csv\n",
      "ERR3211879.gtdb+bins.gather.out   SRR11126399.gtdb+bins.gather.out\n",
      "ERR3211879.gtdb-only.gather.csv   SRR11126399.gtdb-only.gather.csv\n",
      "ERR3211879.gtdb-only.gather.out   SRR12795789.bins-only.gather.csv\n",
      "ERR8314788.bins-only.gather.csv   SRR12795789.gtdb+bins.gather.csv\n",
      "ERR8314788.gtdb+bins.gather.csv   SRR12795789.gtdb+bins.gather.out\n",
      "ERR8314788.gtdb+bins.gather.out   SRR12795789.gtdb-only.gather.csv\n",
      "ERR8314788.gtdb-only.gather.csv   SRR8960141.bins-only.gather.csv\n",
      "SRR11125447.bins-only.gather.csv  SRR8960141.gtdb+bins.gather.csv\n",
      "SRR11125447.gtdb+bins.gather.csv  SRR8960141.gtdb+bins.gather.out\n",
      "SRR11125447.gtdb+bins.gather.out  SRR8960141.gtdb-only.gather.csv\n",
      "SRR11125447.gtdb-only.gather.csv  SRR8960141.gtdb-only.gather.out\n",
      "SRR11125672.bins-only.gather.csv  SRR8960250.bins-only.gather.csv\n",
      "SRR11125672.gtdb+bins.gather.csv  SRR8960250.gtdb+bins.gather.csv\n",
      "SRR11125672.gtdb+bins.gather.out  SRR8960250.gtdb+bins.gather.out\n",
      "SRR11125672.gtdb-only.gather.csv  SRR8960250.gtdb-only.gather.csv\n",
      "SRR11125672.gtdb-only.gather.out  SRR8960946.bins-only.gather.csv\n",
      "SRR11126199.bins-only.gather.csv  SRR8960946.gtdb+bins.gather.csv\n",
      "SRR11126199.gtdb+bins.gather.csv  SRR8960946.gtdb+bins.gather.out\n",
      "SRR11126199.gtdb+bins.gather.out  SRR8960946.gtdb-only.gather.csv\n",
      "SRR11126199.gtdb-only.gather.csv  SRR8960946.gtdb-only.gather.out\n"
     ]
    }
   ],
   "source": [
    "ls ../outputs.test/explain/\n"
   ]
  },
  {
   "cell_type": "code",
   "execution_count": 7,
   "id": "42a31f69-c017-400a-a3a6-9410b0d82d19",
   "metadata": {},
   "outputs": [
    {
     "data": {
      "text/plain": [
       "75.57062096202331"
      ]
     },
     "execution_count": 7,
     "metadata": {},
     "output_type": "execute_result"
    }
   ],
   "source": [
    "import glob\n",
    "import pandas as pd\n",
    "\n",
    "def load_all(dirpath, *, db):\n",
    "    gather_csvs = glob.glob(dirpath + f'/*.{db}gather.csv')\n",
    "    #print(dirpath + f'/*.{db}gather.csv')\n",
    "    #print(gather_csvs)\n",
    "    total = 0\n",
    "    assert len(gather_csvs), (dirpath, gather_csvs)\n",
    "    for csv in gather_csvs:\n",
    "        df = pd.read_csv(csv)\n",
    "        row = next(iter(df.tail(1).itertuples(index=False)))\n",
    "        sum_unique_weighted = row.sum_weighted_found / row.total_weighted_hashes\n",
    "        total += sum_unique_weighted / len(gather_csvs)\n",
    "\n",
    "    return total*100\n",
    "\n",
    "load_all('../outputs.test/explain', db='gtdb+bins.')"
   ]
  },
  {
   "cell_type": "code",
   "execution_count": 8,
   "id": "e8ababb5-59fc-4ad9-8554-17cabc358fab",
   "metadata": {},
   "outputs": [],
   "source": [
    "pairs = [('../outputs.test/explain/', 'basic'),\n",
    "        ]"
   ]
  },
  {
   "cell_type": "markdown",
   "id": "0ddd5eb0-9e12-4dac-a4ff-fe2b27dcc866",
   "metadata": {},
   "source": [
    "## GTDB+bins"
   ]
  },
  {
   "cell_type": "code",
   "execution_count": 9,
   "id": "1eae8656-3ea4-4306-ae15-5d84f21f581c",
   "metadata": {},
   "outputs": [
    {
     "name": "stdout",
     "output_type": "stream",
     "text": [
      "75.57% basic\n"
     ]
    }
   ],
   "source": [
    "results = []\n",
    "for dirname, name in pairs:\n",
    "    p = load_all(dirname, db='gtdb+bins.')\n",
    "    results.append((p, name))\n",
    "\n",
    "results.sort()\n",
    "\n",
    "for p, name in results:\n",
    "   print(f\"{p:.2f}% {name}\")"
   ]
  },
  {
   "cell_type": "markdown",
   "id": "a85dadb9-eff6-42f5-a1b6-c8805e59ff5f",
   "metadata": {},
   "source": [
    "## Bins only"
   ]
  },
  {
   "cell_type": "code",
   "execution_count": 10,
   "id": "b197da2f-51d8-43e3-a4fe-adb18440b98a",
   "metadata": {},
   "outputs": [
    {
     "name": "stdout",
     "output_type": "stream",
     "text": [
      "1.62% basic\n"
     ]
    }
   ],
   "source": [
    "results = []\n",
    "for dirname, name in pairs:\n",
    "    p = load_all(dirname, db='bins-only.')\n",
    "    results.append((p, name))\n",
    "\n",
    "results.sort()\n",
    "\n",
    "for p, name in results:\n",
    "   print(f\"{p:.2f}% {name}\")"
   ]
  },
  {
   "cell_type": "code",
   "execution_count": 24,
   "id": "b5bf1a7f-7670-44d0-8e6d-72a58517a148",
   "metadata": {},
   "outputs": [
    {
     "name": "stdout",
     "output_type": "stream",
     "text": [
      "75.53% basic\n"
     ]
    }
   ],
   "source": [
    "results = []\n",
    "for dirname, name in pairs:\n",
    "    p = load_all(dirname, db='gtdb-only.')\n",
    "    results.append((p, name))\n",
    "\n",
    "results.sort()\n",
    "\n",
    "for p, name in results:\n",
    "   print(f\"{p:.2f}% {name}\")"
   ]
  }
 ],
 "metadata": {
  "kernelspec": {
   "display_name": "genome_grist",
   "language": "python",
   "name": "genome_grist"
  },
  "language_info": {
   "codemirror_mode": {
    "name": "ipython",
    "version": 3
   },
   "file_extension": ".py",
   "mimetype": "text/x-python",
   "name": "python",
   "nbconvert_exporter": "python",
   "pygments_lexer": "ipython3",
   "version": "3.12.11"
  }
 },
 "nbformat": 4,
 "nbformat_minor": 5
}
