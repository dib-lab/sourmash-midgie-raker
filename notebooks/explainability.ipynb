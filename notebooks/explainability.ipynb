{
 "cells": [
  {
   "cell_type": "code",
   "execution_count": 1,
   "id": "db65df71-83e8-47ed-9910-2bbad250a486",
   "metadata": {},
   "outputs": [
    {
     "name": "stdout",
     "output_type": "stream",
     "text": [
      "LICENSE\n",
      "MAGs.all_subGTDB-genomes.k31.x.bin-sketches.csv\n",
      "MAGs.all_subGTDB-genomes.k31.x.bin-sketches.with-lineages.csv\n",
      "\u001b[0m\u001b[01;36mMAGs.all_subGTDB-genomes.k31.zip\u001b[0m@\n",
      "README.md\n",
      "TODO\n",
      "\u001b[01;34mbin-coverage\u001b[0m/\n",
      "config.yaml\n",
      "\u001b[01;34mcontain\u001b[0m/\n",
      "\u001b[01;34mdecontam\u001b[0m/\n",
      "\u001b[01;34mderep\u001b[0m/\n",
      "\u001b[01;34mexplain\u001b[0m/\n",
      "explainability.ipynb\n",
      "\u001b[01;34mmin-set-cov\u001b[0m/\n",
      "\u001b[01;34mnotebooks\u001b[0m/\n",
      "\u001b[01;34mrename\u001b[0m/\n",
      "requirements.txt\n",
      "run-all.sh\n",
      "\u001b[01;34msketch-raw\u001b[0m/\n"
     ]
    }
   ],
   "source": [
    "ls"
   ]
  },
  {
   "cell_type": "code",
   "execution_count": 14,
   "id": "5176e0a8-d7e3-4083-9235-ca90adc73741",
   "metadata": {},
   "outputs": [
    {
     "name": "stdout",
     "output_type": "stream",
     "text": [
      "ERR3211879.bins-only.gather.csv   SRR12795789.bins-only.gather.csv\n",
      "ERR3211879.gather.csv             SRR12795789.gather.csv\n",
      "ERR3211879.gtdb-only.gather.csv   SRR12795789.gtdb-only.gather.csv\n",
      "ERR8314788.bins-only.gather.csv   SRR15057925.gather.csv\n",
      "ERR8314788.gather.csv             SRR15057930.gather.csv\n",
      "ERR8314788.gtdb-only.gather.csv   SRR5241537.gather.csv\n",
      "SRR11125249.gather.csv            SRR8960141.bins-only.gather.csv\n",
      "SRR11125447.bins-only.gather.csv  SRR8960141.gather.csv\n",
      "SRR11125447.gather.csv            SRR8960141.gtdb-only.gather.csv\n",
      "SRR11125447.gtdb-only.gather.csv  SRR8960250.bins-only.gather.csv\n",
      "SRR11125672.bins-only.gather.csv  SRR8960250.gather.csv\n",
      "SRR11125672.gather.csv            SRR8960250.gtdb-only.gather.csv\n",
      "SRR11125672.gtdb-only.gather.csv  SRR8960946.bins-only.gather.csv\n",
      "SRR11126199.bins-only.gather.csv  SRR8960946.gather.csv\n",
      "SRR11126199.gather.csv            SRR8960946.gtdb-only.gather.csv\n",
      "SRR11126199.gtdb-only.gather.csv  Snakefile\n",
      "SRR11126399.bins-only.gather.csv  Snakefile~\n",
      "SRR11126399.gather.csv            \u001b[0m\u001b[01;36mmetags\u001b[0m@\n",
      "SRR11126399.gtdb-only.gather.csv  random-list.txt\n",
      "SRR12795785.gather.csv\n"
     ]
    }
   ],
   "source": [
    "ls explain/\n",
    "ls explain/*.gtdb+bins.gather.csv"
   ]
  },
  {
   "cell_type": "code",
   "execution_count": 20,
   "id": "42a31f69-c017-400a-a3a6-9410b0d82d19",
   "metadata": {},
   "outputs": [
    {
     "data": {
      "text/plain": [
       "85.02905701440979"
      ]
     },
     "execution_count": 20,
     "metadata": {},
     "output_type": "execute_result"
    }
   ],
   "source": [
    "import glob\n",
    "import pandas as pd\n",
    "\n",
    "def load_all(dirpath, *, db):\n",
    "    gather_csvs = glob.glob(dirpath + f'/*.{db}gather.csv')\n",
    "    #print(dirpath + f'/*.{db}gather.csv')\n",
    "    #print(gather_csvs)\n",
    "    total = 0\n",
    "    for csv in gather_csvs:\n",
    "        df = pd.read_csv(csv)\n",
    "        row = next(iter(df.tail(1).itertuples(index=False)))\n",
    "        sum_unique_weighted = row.sum_weighted_found / row.total_weighted_hashes\n",
    "        total += sum_unique_weighted / len(gather_csvs)\n",
    "\n",
    "    return total*100\n",
    "\n",
    "load_all('explain', db='gtdb+bins.')"
   ]
  },
  {
   "cell_type": "code",
   "execution_count": 21,
   "id": "e8ababb5-59fc-4ad9-8554-17cabc358fab",
   "metadata": {},
   "outputs": [],
   "source": [
    "pairs = [('explain/', 'basic'),\n",
    "        ]\n"
   ]
  },
  {
   "cell_type": "markdown",
   "id": "0ddd5eb0-9e12-4dac-a4ff-fe2b27dcc866",
   "metadata": {},
   "source": [
    "## GTDB+bins"
   ]
  },
  {
   "cell_type": "code",
   "execution_count": 22,
   "id": "1eae8656-3ea4-4306-ae15-5d84f21f581c",
   "metadata": {},
   "outputs": [
    {
     "name": "stdout",
     "output_type": "stream",
     "text": [
      "85.03% basic\n"
     ]
    }
   ],
   "source": [
    "results = []\n",
    "for dirname, name in pairs:\n",
    "    p = load_all(dirname, db='gtdb+bins.')\n",
    "    results.append((p, name))\n",
    "\n",
    "results.sort()\n",
    "\n",
    "for p, name in results:\n",
    "   print(f\"{p:.2f}% {name}\")"
   ]
  },
  {
   "cell_type": "markdown",
   "id": "a85dadb9-eff6-42f5-a1b6-c8805e59ff5f",
   "metadata": {},
   "source": [
    "## Bins only"
   ]
  },
  {
   "cell_type": "code",
   "execution_count": 23,
   "id": "b197da2f-51d8-43e3-a4fe-adb18440b98a",
   "metadata": {},
   "outputs": [
    {
     "name": "stdout",
     "output_type": "stream",
     "text": [
      "69.75% basic\n"
     ]
    }
   ],
   "source": [
    "results = []\n",
    "for dirname, name in pairs:\n",
    "    p = load_all(dirname, db='bins-only.')\n",
    "    results.append((p, name))\n",
    "\n",
    "results.sort()\n",
    "\n",
    "for p, name in results:\n",
    "   print(f\"{p:.2f}% {name}\")"
   ]
  },
  {
   "cell_type": "code",
   "execution_count": 24,
   "id": "b5bf1a7f-7670-44d0-8e6d-72a58517a148",
   "metadata": {},
   "outputs": [
    {
     "name": "stdout",
     "output_type": "stream",
     "text": [
      "75.53% basic\n"
     ]
    }
   ],
   "source": [
    "results = []\n",
    "for dirname, name in pairs:\n",
    "    p = load_all(dirname, db='gtdb-only.')\n",
    "    results.append((p, name))\n",
    "\n",
    "results.sort()\n",
    "\n",
    "for p, name in results:\n",
    "   print(f\"{p:.2f}% {name}\")"
   ]
  },
  {
   "cell_type": "code",
   "execution_count": null,
   "id": "88ea0696-76a8-4ce0-be37-57c6b976c33d",
   "metadata": {},
   "outputs": [],
   "source": []
  }
 ],
 "metadata": {
  "kernelspec": {
   "display_name": "genome_grist",
   "language": "python",
   "name": "genome_grist"
  },
  "language_info": {
   "codemirror_mode": {
    "name": "ipython",
    "version": 3
   },
   "file_extension": ".py",
   "mimetype": "text/x-python",
   "name": "python",
   "nbconvert_exporter": "python",
   "pygments_lexer": "ipython3",
   "version": "3.12.11"
  }
 },
 "nbformat": 4,
 "nbformat_minor": 5
}
