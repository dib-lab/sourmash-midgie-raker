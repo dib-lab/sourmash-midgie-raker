{
 "cells": [
  {
   "cell_type": "code",
   "execution_count": 1,
   "id": "430fbb27-4132-4b63-898e-1c045013ab11",
   "metadata": {},
   "outputs": [
    {
     "name": "stdout",
     "output_type": "stream",
     "text": [
      "../rarefy.csv\n"
     ]
    }
   ],
   "source": [
    "ls ../rarefy.csv\n"
   ]
  },
  {
   "cell_type": "code",
   "execution_count": 2,
   "id": "98a375ef-1f07-495d-9121-c13ee0555240",
   "metadata": {},
   "outputs": [],
   "source": [
    "import pandas as pd\n",
    "from matplotlib import pyplot as plt"
   ]
  },
  {
   "cell_type": "code",
   "execution_count": 13,
   "id": "0e4a745d-5531-4800-b5a4-ca8e8d483183",
   "metadata": {},
   "outputs": [],
   "source": [
    "#df = pd.read_csv('../rarefy.k=rarefy.k=21.s1000.10m.csv')\n",
    "df = pd.read_csv('../../2025-other-pig-bins/all-bins.rarefy.csv')"
   ]
  },
  {
   "cell_type": "code",
   "execution_count": 14,
   "id": "ec680f4f-d808-4485-82af-709d90ee7efc",
   "metadata": {},
   "outputs": [
    {
     "data": {
      "text/html": [
       "<div>\n",
       "<style scoped>\n",
       "    .dataframe tbody tr th:only-of-type {\n",
       "        vertical-align: middle;\n",
       "    }\n",
       "\n",
       "    .dataframe tbody tr th {\n",
       "        vertical-align: top;\n",
       "    }\n",
       "\n",
       "    .dataframe thead th {\n",
       "        text-align: right;\n",
       "    }\n",
       "</style>\n",
       "<table border=\"1\" class=\"dataframe\">\n",
       "  <thead>\n",
       "    <tr style=\"text-align: right;\">\n",
       "      <th></th>\n",
       "      <th>iteration</th>\n",
       "      <th>position</th>\n",
       "      <th>sample</th>\n",
       "      <th>new_kmers</th>\n",
       "      <th>cumulative_kmers</th>\n",
       "    </tr>\n",
       "  </thead>\n",
       "  <tbody>\n",
       "    <tr>\n",
       "      <th>0</th>\n",
       "      <td>0</td>\n",
       "      <td>1</td>\n",
       "      <td>NNF_SINGLE_MAG17 s__Phil1 sp004558525 (352_ekd...</td>\n",
       "      <td>206</td>\n",
       "      <td>206</td>\n",
       "    </tr>\n",
       "    <tr>\n",
       "      <th>1</th>\n",
       "      <td>0</td>\n",
       "      <td>2</td>\n",
       "      <td>NNF_KU_MAG531 s__Mitsuokella multacida (vaevae...</td>\n",
       "      <td>256</td>\n",
       "      <td>462</td>\n",
       "    </tr>\n",
       "    <tr>\n",
       "      <th>2</th>\n",
       "      <td>0</td>\n",
       "      <td>3</td>\n",
       "      <td>NNF_VAMB_MAG2151 unknown (369_ekdn230018988_va...</td>\n",
       "      <td>151</td>\n",
       "      <td>613</td>\n",
       "    </tr>\n",
       "    <tr>\n",
       "      <th>3</th>\n",
       "      <td>0</td>\n",
       "      <td>4</td>\n",
       "      <td>NNF_SEMIBIN2_MAG455 s__Cryptobacteroides sp022...</td>\n",
       "      <td>262</td>\n",
       "      <td>875</td>\n",
       "    </tr>\n",
       "    <tr>\n",
       "      <th>4</th>\n",
       "      <td>0</td>\n",
       "      <td>5</td>\n",
       "      <td>NNF_UCD_MAG1862 s__Holdemanella porci (Esben34...</td>\n",
       "      <td>201</td>\n",
       "      <td>1076</td>\n",
       "    </tr>\n",
       "    <tr>\n",
       "      <th>...</th>\n",
       "      <td>...</td>\n",
       "      <td>...</td>\n",
       "      <td>...</td>\n",
       "      <td>...</td>\n",
       "      <td>...</td>\n",
       "    </tr>\n",
       "    <tr>\n",
       "      <th>1027895</th>\n",
       "      <td>99</td>\n",
       "      <td>10275</td>\n",
       "      <td>NNF_UCD_MAG432 s__Ruminococcoides sp946414115 ...</td>\n",
       "      <td>0</td>\n",
       "      <td>242858</td>\n",
       "    </tr>\n",
       "    <tr>\n",
       "      <th>1027896</th>\n",
       "      <td>99</td>\n",
       "      <td>10276</td>\n",
       "      <td>NNF_SEMIBIN2_MAG2032 s__Anaerobutyricum soehng...</td>\n",
       "      <td>8</td>\n",
       "      <td>242866</td>\n",
       "    </tr>\n",
       "    <tr>\n",
       "      <th>1027897</th>\n",
       "      <td>99</td>\n",
       "      <td>10277</td>\n",
       "      <td>NNF_SEMIBIN2_MAG995 s__UBA1227 sp900545655 (31...</td>\n",
       "      <td>1</td>\n",
       "      <td>242867</td>\n",
       "    </tr>\n",
       "    <tr>\n",
       "      <th>1027898</th>\n",
       "      <td>99</td>\n",
       "      <td>10278</td>\n",
       "      <td>NNF_KU_MAG395 s__Onthousia sp000438295 (vaevae...</td>\n",
       "      <td>4</td>\n",
       "      <td>242871</td>\n",
       "    </tr>\n",
       "    <tr>\n",
       "      <th>1027899</th>\n",
       "      <td>99</td>\n",
       "      <td>10279</td>\n",
       "      <td>NNF_UCD_MAG1338 s__Limivicinus sp945873205 (Es...</td>\n",
       "      <td>2</td>\n",
       "      <td>242873</td>\n",
       "    </tr>\n",
       "  </tbody>\n",
       "</table>\n",
       "<p>1027900 rows × 5 columns</p>\n",
       "</div>"
      ],
      "text/plain": [
       "         iteration  position  \\\n",
       "0                0         1   \n",
       "1                0         2   \n",
       "2                0         3   \n",
       "3                0         4   \n",
       "4                0         5   \n",
       "...            ...       ...   \n",
       "1027895         99     10275   \n",
       "1027896         99     10276   \n",
       "1027897         99     10277   \n",
       "1027898         99     10278   \n",
       "1027899         99     10279   \n",
       "\n",
       "                                                    sample  new_kmers  \\\n",
       "0        NNF_SINGLE_MAG17 s__Phil1 sp004558525 (352_ekd...        206   \n",
       "1        NNF_KU_MAG531 s__Mitsuokella multacida (vaevae...        256   \n",
       "2        NNF_VAMB_MAG2151 unknown (369_ekdn230018988_va...        151   \n",
       "3        NNF_SEMIBIN2_MAG455 s__Cryptobacteroides sp022...        262   \n",
       "4        NNF_UCD_MAG1862 s__Holdemanella porci (Esben34...        201   \n",
       "...                                                    ...        ...   \n",
       "1027895  NNF_UCD_MAG432 s__Ruminococcoides sp946414115 ...          0   \n",
       "1027896  NNF_SEMIBIN2_MAG2032 s__Anaerobutyricum soehng...          8   \n",
       "1027897  NNF_SEMIBIN2_MAG995 s__UBA1227 sp900545655 (31...          1   \n",
       "1027898  NNF_KU_MAG395 s__Onthousia sp000438295 (vaevae...          4   \n",
       "1027899  NNF_UCD_MAG1338 s__Limivicinus sp945873205 (Es...          2   \n",
       "\n",
       "         cumulative_kmers  \n",
       "0                     206  \n",
       "1                     462  \n",
       "2                     613  \n",
       "3                     875  \n",
       "4                    1076  \n",
       "...                   ...  \n",
       "1027895            242858  \n",
       "1027896            242866  \n",
       "1027897            242867  \n",
       "1027898            242871  \n",
       "1027899            242873  \n",
       "\n",
       "[1027900 rows x 5 columns]"
      ]
     },
     "execution_count": 14,
     "metadata": {},
     "output_type": "execute_result"
    }
   ],
   "source": [
    "df"
   ]
  },
  {
   "cell_type": "code",
   "execution_count": 15,
   "id": "cc737292-31cc-462b-8fcb-79596598ff37",
   "metadata": {},
   "outputs": [
    {
     "data": {
      "text/plain": [
       "[<matplotlib.lines.Line2D at 0x7858201b61e0>]"
      ]
     },
     "execution_count": 15,
     "metadata": {},
     "output_type": "execute_result"
    },
    {
     "data": {
      "image/png": "[encoded data removed]",
      "text/plain": [
       "<Figure size 640x480 with 1 Axes>"
      ]
     },
     "metadata": {},
     "output_type": "display_data"
    }
   ],
   "source": [
    "plt.plot(df.position, df.cumulative_kmers, '*')"
   ]
  },
  {
   "cell_type": "code",
   "execution_count": 16,
   "id": "f56ed58a-2142-4f56-baec-ef9d6cf062fd",
   "metadata": {},
   "outputs": [
    {
     "data": {
      "text/html": [
       "<div>\n",
       "<style scoped>\n",
       "    .dataframe tbody tr th:only-of-type {\n",
       "        vertical-align: middle;\n",
       "    }\n",
       "\n",
       "    .dataframe tbody tr th {\n",
       "        vertical-align: top;\n",
       "    }\n",
       "\n",
       "    .dataframe thead th {\n",
       "        text-align: right;\n",
       "    }\n",
       "</style>\n",
       "<table border=\"1\" class=\"dataframe\">\n",
       "  <thead>\n",
       "    <tr style=\"text-align: right;\">\n",
       "      <th></th>\n",
       "      <th>position</th>\n",
       "      <th>mean</th>\n",
       "      <th>std</th>\n",
       "    </tr>\n",
       "  </thead>\n",
       "  <tbody>\n",
       "    <tr>\n",
       "      <th>0</th>\n",
       "      <td>1</td>\n",
       "      <td>215.73</td>\n",
       "      <td>63.663232</td>\n",
       "    </tr>\n",
       "    <tr>\n",
       "      <th>1</th>\n",
       "      <td>2</td>\n",
       "      <td>420.84</td>\n",
       "      <td>77.268876</td>\n",
       "    </tr>\n",
       "    <tr>\n",
       "      <th>2</th>\n",
       "      <td>3</td>\n",
       "      <td>631.08</td>\n",
       "      <td>110.314397</td>\n",
       "    </tr>\n",
       "    <tr>\n",
       "      <th>3</th>\n",
       "      <td>4</td>\n",
       "      <td>843.76</td>\n",
       "      <td>124.480668</td>\n",
       "    </tr>\n",
       "    <tr>\n",
       "      <th>4</th>\n",
       "      <td>5</td>\n",
       "      <td>1045.69</td>\n",
       "      <td>134.902411</td>\n",
       "    </tr>\n",
       "    <tr>\n",
       "      <th>...</th>\n",
       "      <td>...</td>\n",
       "      <td>...</td>\n",
       "      <td>...</td>\n",
       "    </tr>\n",
       "    <tr>\n",
       "      <th>10274</th>\n",
       "      <td>10275</td>\n",
       "      <td>242855.77</td>\n",
       "      <td>31.772504</td>\n",
       "    </tr>\n",
       "    <tr>\n",
       "      <th>10275</th>\n",
       "      <td>10276</td>\n",
       "      <td>242859.40</td>\n",
       "      <td>30.678193</td>\n",
       "    </tr>\n",
       "    <tr>\n",
       "      <th>10276</th>\n",
       "      <td>10277</td>\n",
       "      <td>242863.79</td>\n",
       "      <td>26.850237</td>\n",
       "    </tr>\n",
       "    <tr>\n",
       "      <th>10277</th>\n",
       "      <td>10278</td>\n",
       "      <td>242867.22</td>\n",
       "      <td>25.151894</td>\n",
       "    </tr>\n",
       "    <tr>\n",
       "      <th>10278</th>\n",
       "      <td>10279</td>\n",
       "      <td>242873.00</td>\n",
       "      <td>0.000000</td>\n",
       "    </tr>\n",
       "  </tbody>\n",
       "</table>\n",
       "<p>10279 rows × 3 columns</p>\n",
       "</div>"
      ],
      "text/plain": [
       "       position       mean         std\n",
       "0             1     215.73   63.663232\n",
       "1             2     420.84   77.268876\n",
       "2             3     631.08  110.314397\n",
       "3             4     843.76  124.480668\n",
       "4             5    1045.69  134.902411\n",
       "...         ...        ...         ...\n",
       "10274     10275  242855.77   31.772504\n",
       "10275     10276  242859.40   30.678193\n",
       "10276     10277  242863.79   26.850237\n",
       "10277     10278  242867.22   25.151894\n",
       "10278     10279  242873.00    0.000000\n",
       "\n",
       "[10279 rows x 3 columns]"
      ]
     },
     "execution_count": 16,
     "metadata": {},
     "output_type": "execute_result"
    }
   ],
   "source": [
    "df = df.sort_values(by=[\"iteration\", \"position\"])\n",
    "\n",
    "# Group by iteration and calculate cumulative kmers per sample position\n",
    "df[\"cumulative\"] = df.groupby(\"iteration\")[\"new_kmers\"].cumsum()\n",
    "\n",
    "# Calculate mean and std across iterations at each sample position\n",
    "summary = df.groupby(\"position\")[\"cumulative\"].agg([\"mean\", \"std\"]).reset_index()\n",
    "summary"
   ]
  },
  {
   "cell_type": "code",
   "execution_count": 17,
   "id": "c366bffb-9242-4c6b-93d6-516cdc18a914",
   "metadata": {},
   "outputs": [
    {
     "data": {
      "text/plain": [
       "<matplotlib.collections.FillBetweenPolyCollection at 0x78581f8d9be0>"
      ]
     },
     "execution_count": 17,
     "metadata": {},
     "output_type": "execute_result"
    },
    {
     "data": {
      "image/png": "[encoded data removed]",
      "text/plain": [
       "<Figure size 640x480 with 1 Axes>"
      ]
     },
     "metadata": {},
     "output_type": "display_data"
    }
   ],
   "source": [
    "x_kmer = summary[\"position\"]\n",
    "mean_kmer = summary[\"mean\"]\n",
    "std_kmer = summary[\"std\"]\n",
    "\n",
    "plt.plot(x_kmer, mean_kmer, color=\"#c51b7d\", label=\"Mean cumulative k-mers\")\n",
    "plt.fill_between(x_kmer, mean_kmer-2*std_kmer, mean_kmer+2*std_kmer, alpha=0.3, color=\"#c51b7d\")\n"
   ]
  },
  {
   "cell_type": "code",
   "execution_count": null,
   "id": "b85faf71-46e7-4a46-a579-1cd2404274e0",
   "metadata": {},
   "outputs": [],
   "source": []
  }
 ],
 "metadata": {
  "kernelspec": {
   "display_name": "genome_grist",
   "language": "python",
   "name": "genome_grist"
  },
  "language_info": {
   "codemirror_mode": {
    "name": "ipython",
    "version": 3
   },
   "file_extension": ".py",
   "mimetype": "text/x-python",
   "name": "python",
   "nbconvert_exporter": "python",
   "pygments_lexer": "ipython3",
   "version": "3.12.11"
  }
 },
 "nbformat": 4,
 "nbformat_minor": 5
}
