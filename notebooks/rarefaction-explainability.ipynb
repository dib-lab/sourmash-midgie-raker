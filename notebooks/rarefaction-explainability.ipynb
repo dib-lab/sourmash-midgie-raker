{
 "cells": [
  {
   "cell_type": "code",
   "execution_count": 7,
   "id": "98a375ef-1f07-495d-9121-c13ee0555240",
   "metadata": {},
   "outputs": [],
   "source": [
    "import pandas as pd\n",
    "from matplotlib import pyplot as plt"
   ]
  },
  {
   "cell_type": "code",
   "execution_count": 2,
   "id": "0e4a745d-5531-4800-b5a4-ca8e8d483183",
   "metadata": {},
   "outputs": [],
   "source": [
    "#df = pd.read_csv('../rarefy.k=rarefy.k=21.s1000.10m.csv')\n",
    "df = pd.read_csv('../xxx.csv')\n",
    "#df = df[df['metag'] == 'ERR3211919']"
   ]
  },
  {
   "cell_type": "code",
   "execution_count": 3,
   "id": "ec680f4f-d808-4485-82af-709d90ee7efc",
   "metadata": {},
   "outputs": [
    {
     "data": {
      "text/html": [
       "<div>\n",
       "<style scoped>\n",
       "    .dataframe tbody tr th:only-of-type {\n",
       "        vertical-align: middle;\n",
       "    }\n",
       "\n",
       "    .dataframe tbody tr th {\n",
       "        vertical-align: top;\n",
       "    }\n",
       "\n",
       "    .dataframe thead th {\n",
       "        text-align: right;\n",
       "    }\n",
       "</style>\n",
       "<table border=\"1\" class=\"dataframe\">\n",
       "  <thead>\n",
       "    <tr style=\"text-align: right;\">\n",
       "      <th></th>\n",
       "      <th>iteration</th>\n",
       "      <th>position</th>\n",
       "      <th>cumulative</th>\n",
       "      <th>metag</th>\n",
       "    </tr>\n",
       "  </thead>\n",
       "  <tbody>\n",
       "    <tr>\n",
       "      <th>0</th>\n",
       "      <td>0</td>\n",
       "      <td>0</td>\n",
       "      <td>0.001288</td>\n",
       "      <td>ERR1135207</td>\n",
       "    </tr>\n",
       "    <tr>\n",
       "      <th>1</th>\n",
       "      <td>0</td>\n",
       "      <td>100</td>\n",
       "      <td>0.097293</td>\n",
       "      <td>ERR1135207</td>\n",
       "    </tr>\n",
       "    <tr>\n",
       "      <th>2</th>\n",
       "      <td>0</td>\n",
       "      <td>200</td>\n",
       "      <td>0.154323</td>\n",
       "      <td>ERR1135207</td>\n",
       "    </tr>\n",
       "    <tr>\n",
       "      <th>3</th>\n",
       "      <td>0</td>\n",
       "      <td>300</td>\n",
       "      <td>0.169882</td>\n",
       "      <td>ERR1135207</td>\n",
       "    </tr>\n",
       "    <tr>\n",
       "      <th>4</th>\n",
       "      <td>0</td>\n",
       "      <td>400</td>\n",
       "      <td>0.177057</td>\n",
       "      <td>ERR1135207</td>\n",
       "    </tr>\n",
       "    <tr>\n",
       "      <th>...</th>\n",
       "      <td>...</td>\n",
       "      <td>...</td>\n",
       "      <td>...</td>\n",
       "      <td>...</td>\n",
       "    </tr>\n",
       "    <tr>\n",
       "      <th>5745</th>\n",
       "      <td>49</td>\n",
       "      <td>11000</td>\n",
       "      <td>0.544678</td>\n",
       "      <td>ERR1135207</td>\n",
       "    </tr>\n",
       "    <tr>\n",
       "      <th>5746</th>\n",
       "      <td>49</td>\n",
       "      <td>11100</td>\n",
       "      <td>0.546807</td>\n",
       "      <td>ERR1135207</td>\n",
       "    </tr>\n",
       "    <tr>\n",
       "      <th>5747</th>\n",
       "      <td>49</td>\n",
       "      <td>11200</td>\n",
       "      <td>0.547043</td>\n",
       "      <td>ERR1135207</td>\n",
       "    </tr>\n",
       "    <tr>\n",
       "      <th>5748</th>\n",
       "      <td>49</td>\n",
       "      <td>11300</td>\n",
       "      <td>0.548279</td>\n",
       "      <td>ERR1135207</td>\n",
       "    </tr>\n",
       "    <tr>\n",
       "      <th>5749</th>\n",
       "      <td>49</td>\n",
       "      <td>11400</td>\n",
       "      <td>0.548830</td>\n",
       "      <td>ERR1135207</td>\n",
       "    </tr>\n",
       "  </tbody>\n",
       "</table>\n",
       "<p>5750 rows × 4 columns</p>\n",
       "</div>"
      ],
      "text/plain": [
       "      iteration  position  cumulative       metag\n",
       "0             0         0    0.001288  ERR1135207\n",
       "1             0       100    0.097293  ERR1135207\n",
       "2             0       200    0.154323  ERR1135207\n",
       "3             0       300    0.169882  ERR1135207\n",
       "4             0       400    0.177057  ERR1135207\n",
       "...         ...       ...         ...         ...\n",
       "5745         49     11000    0.544678  ERR1135207\n",
       "5746         49     11100    0.546807  ERR1135207\n",
       "5747         49     11200    0.547043  ERR1135207\n",
       "5748         49     11300    0.548279  ERR1135207\n",
       "5749         49     11400    0.548830  ERR1135207\n",
       "\n",
       "[5750 rows x 4 columns]"
      ]
     },
     "execution_count": 3,
     "metadata": {},
     "output_type": "execute_result"
    }
   ],
   "source": [
    "df"
   ]
  },
  {
   "cell_type": "code",
   "execution_count": 4,
   "id": "cc737292-31cc-462b-8fcb-79596598ff37",
   "metadata": {},
   "outputs": [
    {
     "data": {
      "text/plain": [
       "[<matplotlib.lines.Line2D at 0x7c90d3b97c50>]"
      ]
     },
     "execution_count": 4,
     "metadata": {},
     "output_type": "execute_result"
    },
    {
     "data": {
      "image/png": "[encoded data removed]",
      "text/plain": [
       "<Figure size 640x480 with 1 Axes>"
      ]
     },
     "metadata": {},
     "output_type": "display_data"
    }
   ],
   "source": [
    "plt.plot(df.position, df.cumulative, '*')"
   ]
  },
  {
   "cell_type": "code",
   "execution_count": 5,
   "id": "f56ed58a-2142-4f56-baec-ef9d6cf062fd",
   "metadata": {},
   "outputs": [
    {
     "data": {
      "text/html": [
       "<div>\n",
       "<style scoped>\n",
       "    .dataframe tbody tr th:only-of-type {\n",
       "        vertical-align: middle;\n",
       "    }\n",
       "\n",
       "    .dataframe tbody tr th {\n",
       "        vertical-align: top;\n",
       "    }\n",
       "\n",
       "    .dataframe thead th {\n",
       "        text-align: right;\n",
       "    }\n",
       "</style>\n",
       "<table border=\"1\" class=\"dataframe\">\n",
       "  <thead>\n",
       "    <tr style=\"text-align: right;\">\n",
       "      <th></th>\n",
       "      <th>position</th>\n",
       "      <th>mean</th>\n",
       "      <th>std</th>\n",
       "    </tr>\n",
       "  </thead>\n",
       "  <tbody>\n",
       "    <tr>\n",
       "      <th>0</th>\n",
       "      <td>0</td>\n",
       "      <td>0.002249</td>\n",
       "      <td>0.008408</td>\n",
       "    </tr>\n",
       "    <tr>\n",
       "      <th>1</th>\n",
       "      <td>100</td>\n",
       "      <td>0.088718</td>\n",
       "      <td>0.025109</td>\n",
       "    </tr>\n",
       "    <tr>\n",
       "      <th>2</th>\n",
       "      <td>200</td>\n",
       "      <td>0.131540</td>\n",
       "      <td>0.030038</td>\n",
       "    </tr>\n",
       "    <tr>\n",
       "      <th>3</th>\n",
       "      <td>300</td>\n",
       "      <td>0.160360</td>\n",
       "      <td>0.027090</td>\n",
       "    </tr>\n",
       "    <tr>\n",
       "      <th>4</th>\n",
       "      <td>400</td>\n",
       "      <td>0.183070</td>\n",
       "      <td>0.030393</td>\n",
       "    </tr>\n",
       "    <tr>\n",
       "      <th>...</th>\n",
       "      <td>...</td>\n",
       "      <td>...</td>\n",
       "      <td>...</td>\n",
       "    </tr>\n",
       "    <tr>\n",
       "      <th>110</th>\n",
       "      <td>11000</td>\n",
       "      <td>0.545393</td>\n",
       "      <td>0.003538</td>\n",
       "    </tr>\n",
       "    <tr>\n",
       "      <th>111</th>\n",
       "      <td>11100</td>\n",
       "      <td>0.546564</td>\n",
       "      <td>0.002811</td>\n",
       "    </tr>\n",
       "    <tr>\n",
       "      <th>112</th>\n",
       "      <td>11200</td>\n",
       "      <td>0.547256</td>\n",
       "      <td>0.002596</td>\n",
       "    </tr>\n",
       "    <tr>\n",
       "      <th>113</th>\n",
       "      <td>11300</td>\n",
       "      <td>0.548111</td>\n",
       "      <td>0.001722</td>\n",
       "    </tr>\n",
       "    <tr>\n",
       "      <th>114</th>\n",
       "      <td>11400</td>\n",
       "      <td>0.549040</td>\n",
       "      <td>0.000197</td>\n",
       "    </tr>\n",
       "  </tbody>\n",
       "</table>\n",
       "<p>115 rows × 3 columns</p>\n",
       "</div>"
      ],
      "text/plain": [
       "     position      mean       std\n",
       "0           0  0.002249  0.008408\n",
       "1         100  0.088718  0.025109\n",
       "2         200  0.131540  0.030038\n",
       "3         300  0.160360  0.027090\n",
       "4         400  0.183070  0.030393\n",
       "..        ...       ...       ...\n",
       "110     11000  0.545393  0.003538\n",
       "111     11100  0.546564  0.002811\n",
       "112     11200  0.547256  0.002596\n",
       "113     11300  0.548111  0.001722\n",
       "114     11400  0.549040  0.000197\n",
       "\n",
       "[115 rows x 3 columns]"
      ]
     },
     "execution_count": 5,
     "metadata": {},
     "output_type": "execute_result"
    }
   ],
   "source": [
    "df = df.sort_values(by=[\"iteration\", \"position\"])\n",
    "\n",
    "# Group by iteration and calculate cumulative kmers per sample position\n",
    "#df[\"cumulative\"] = df.groupby(\"iteration\")[\"cumulative\"]\n",
    "\n",
    "# Calculate mean and std across iterations at each sample position\n",
    "summary = df.groupby(\"position\")[\"cumulative\"].agg([\"mean\", \"std\"]).reset_index()\n",
    "summary"
   ]
  },
  {
   "cell_type": "code",
   "execution_count": 6,
   "id": "c366bffb-9242-4c6b-93d6-516cdc18a914",
   "metadata": {},
   "outputs": [
    {
     "data": {
      "text/plain": [
       "<matplotlib.collections.FillBetweenPolyCollection at 0x7c90d3a15e50>"
      ]
     },
     "execution_count": 6,
     "metadata": {},
     "output_type": "execute_result"
    },
    {
     "data": {
      "image/png": "[encoded data removed]",
      "text/plain": [
       "<Figure size 640x480 with 1 Axes>"
      ]
     },
     "metadata": {},
     "output_type": "display_data"
    }
   ],
   "source": [
    "x_kmer = summary[\"position\"]\n",
    "mean_kmer = summary[\"mean\"]\n",
    "std_kmer = summary[\"std\"]\n",
    "\n",
    "plt.plot(x_kmer, mean_kmer, color=\"#c51b7d\", label=\"Mean cumulative k-mers\")\n",
    "plt.fill_between(x_kmer, mean_kmer-2*std_kmer, mean_kmer+2*std_kmer, alpha=0.3, color=\"#c51b7d\")\n"
   ]
  },
  {
   "cell_type": "code",
   "execution_count": null,
   "id": "b85faf71-46e7-4a46-a579-1cd2404274e0",
   "metadata": {},
   "outputs": [],
   "source": []
  }
 ],
 "metadata": {
  "kernelspec": {
   "display_name": "genome_grist",
   "language": "python",
   "name": "genome_grist"
  },
  "language_info": {
   "codemirror_mode": {
    "name": "ipython",
    "version": 3
   },
   "file_extension": ".py",
   "mimetype": "text/x-python",
   "name": "python",
   "nbconvert_exporter": "python",
   "pygments_lexer": "ipython3",
   "version": "3.12.11"
  }
 },
 "nbformat": 4,
 "nbformat_minor": 5
}
